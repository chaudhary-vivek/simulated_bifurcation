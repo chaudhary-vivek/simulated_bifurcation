{
 "cells": [
  {
   "cell_type": "code",
   "execution_count": 2,
   "metadata": {},
   "outputs": [
    {
     "data": {
      "text/plain": [
       "(3, 2, 2)"
      ]
     },
     "execution_count": 2,
     "metadata": {},
     "output_type": "execute_result"
    }
   ],
   "source": [
    "from itertools import product\n",
    "import numpy as np\n",
    "\n",
    "def is_valid_coloring(adj_matrix, coloring):\n",
    "    \"\"\"Check if a given coloring is valid (no two adjacent vertices share the same color).\"\"\"\n",
    "    n = len(adj_matrix)\n",
    "    for i in range(n):\n",
    "        for j in range(i + 1, n):\n",
    "            if adj_matrix[i, j] == 1 and coloring[i] == coloring[j]:\n",
    "                return False\n",
    "    return True\n",
    "\n",
    "def find_chromatic_number(adj_matrix):\n",
    "    \"\"\"Find the chromatic number by brute force.\"\"\"\n",
    "    n = len(adj_matrix)\n",
    "    for num_colors in range(1, n + 1):  # Try using 1 to n colors\n",
    "        for coloring in product(range(num_colors), repeat=n):\n",
    "            if is_valid_coloring(adj_matrix, coloring):\n",
    "                return num_colors\n",
    "    return n  # Worst case, n colors are needed\n",
    "\n",
    "# Define adjacency matrices for the three example graphs\n",
    "triangle_graph = np.array([[0, 1, 1],\n",
    "                           [1, 0, 1],\n",
    "                           [1, 1, 0]])\n",
    "\n",
    "square_graph = np.array([[0, 1, 0, 1],\n",
    "                         [1, 0, 1, 0],\n",
    "                         [0, 1, 0, 1],\n",
    "                         [1, 0, 1, 0]])\n",
    "\n",
    "star_graph = np.array([[0, 1, 1, 1],\n",
    "                       [1, 0, 0, 0],\n",
    "                       [1, 0, 0, 0],\n",
    "                       [1, 0, 0, 0]])\n",
    "\n",
    "# Compute chromatic numbers\n",
    "chromatic_triangle = find_chromatic_number(triangle_graph)\n",
    "chromatic_square = find_chromatic_number(square_graph)\n",
    "chromatic_star = find_chromatic_number(star_graph)\n",
    "\n",
    "(chromatic_triangle, chromatic_square, chromatic_star)\n"
   ]
  }
 ],
 "metadata": {
  "kernelspec": {
   "display_name": "base",
   "language": "python",
   "name": "python3"
  },
  "language_info": {
   "codemirror_mode": {
    "name": "ipython",
    "version": 3
   },
   "file_extension": ".py",
   "mimetype": "text/x-python",
   "name": "python",
   "nbconvert_exporter": "python",
   "pygments_lexer": "ipython3",
   "version": "3.11.5"
  }
 },
 "nbformat": 4,
 "nbformat_minor": 2
}
