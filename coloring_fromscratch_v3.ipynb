{
 "cells": [
  {
   "cell_type": "code",
   "execution_count": 49,
   "metadata": {},
   "outputs": [],
   "source": [
    "import numpy as np\n",
    "import matplotlib.pyplot as plt\n"
   ]
  },
  {
   "cell_type": "markdown",
   "metadata": {},
   "source": [
    "# Experimental section"
   ]
  },
  {
   "cell_type": "code",
   "execution_count": 50,
   "metadata": {},
   "outputs": [],
   "source": [
    "def print_coloring_stats(J, binary_solutions):\n",
    "    # Count number of times adjacent nodes share a color\n",
    "    coloring_match = np.sum(J * (binary_solutions @ binary_solutions.T)) // 2  # Avoid double-counting\n",
    "    \n",
    "    # Count number of nodes assigned more than one color\n",
    "    coloring_repeat = np.sum(np.sum(binary_solutions, axis=1) > 1)\n",
    "    \n",
    "    print(\"Number of times two adjacent nodes have the same color:\", coloring_match)\n",
    "    print(\"Number of times one node is assigned more than one color:\", coloring_repeat)\n"
   ]
  },
  {
   "cell_type": "code",
   "execution_count": 51,
   "metadata": {},
   "outputs": [],
   "source": [
    "def get_coupling(J, x):\n",
    "    coloring_match = x*np.sum(J * (x @ x.T > 0)) // 2  # Count pairs where adjacent nodes share a color\n",
    "    coloring_repeat = x*np.sum(np.sum(x > 0, axis=1) > 1)  # Count nodes with multiple colors\n",
    "    return coloring_match + coloring_repeat\n",
    "\n",
    "def get_coupling(J, x):\n",
    "    coloring_match = np.sum(J * (x @ x.T > 0)) // 2  # Count pairs where adjacent nodes share a color\n",
    "    coloring_repeat = np.sum(np.sum(x > 0, axis=1) > 1)  # Count nodes with multiple colors\n",
    "    return x*(coloring_match + coloring_repeat)/(x.shape[0] + x.shape[1])"
   ]
  },
  {
   "cell_type": "code",
   "execution_count": 52,
   "metadata": {},
   "outputs": [
    {
     "name": "stdout",
     "output_type": "stream",
     "text": [
      "Number of times two adjacent nodes have the same color: 10.0\n",
      "Number of times one node is assigned more than one color: 2\n"
     ]
    },
    {
     "data": {
      "text/plain": [
       "array([[ 1., -1.,  1.],\n",
       "       [ 1.,  1.,  1.],\n",
       "       [ 1., -1.,  1.],\n",
       "       [ 1., -1.,  1.],\n",
       "       [ 1.,  1.,  1.]])"
      ]
     },
     "execution_count": 52,
     "metadata": {},
     "output_type": "execute_result"
    }
   ],
   "source": [
    "\n",
    "J = np.array([[0, 0, 1, 0, 1],\n",
    "         [0, 0, 0, 1, 1],\n",
    "         [1, 0, 0, 0, 1],\n",
    "         [0, 1, 0, 0, 1],\n",
    "         [1, 1, 1, 1, 0]])\n",
    "\n",
    "num_colors = 3\n",
    "\n",
    "steps=10000\n",
    "a0=1.0\n",
    "c0=1.0 \n",
    "dt=0.01\n",
    "gradient_list = []\n",
    "x_max_list = []\n",
    "y_max_list = []\n",
    "x_min_list = []\n",
    "y_min_list = []\n",
    "\n",
    "# Get problem size\n",
    "N = J.shape[0]\n",
    "\n",
    "# Initialize positions and momenta\n",
    "x = np.random.uniform(-0.5, 0.5, (N, num_colors))  # Position variables\n",
    "y = np.zeros((N, num_colors))                 # Momentum variables\n",
    "\n",
    "coupling = np.zeros((N, num_colors)) \n",
    "\n",
    "# Define a(t) function - linear increase from 0 to a0\n",
    "def a_t_func(t):\n",
    "    return min(a0 * t / (0.2 * steps * dt), a0)\n",
    "\n",
    "    \n",
    "# Main simulation loop\n",
    "for step in range(1, steps + 1):\n",
    "    t = step * dt\n",
    "    a_t = a_t_func(t)\n",
    "    \n",
    "    # First part of symplectic Euler: update momenta\n",
    "    # ẏ_i = -[a0 - a(t)]x_i + c0 ∑J_ij*x_j\n",
    "    coupling = get_coupling(J,x)\n",
    "    y -= dt * ((a0 - a_t) * x - c0 * coupling)\n",
    "    \n",
    "    # Second part: update positions\n",
    "    # ẋ_i = a0 * y_i\n",
    "    x += dt * a0 * y\n",
    "\n",
    "    gradient_list.append(coupling.sum())\n",
    "    \n",
    "    # Apply inelastic walls: for any |x_i| > 1\n",
    "    outside_range = np.abs(x) > 1.0\n",
    "    if np.any(outside_range):\n",
    "        # Replace with sign (±1)\n",
    "        x[outside_range] = np.sign(x[outside_range])\n",
    "        # Set corresponding momenta to 0\n",
    "        y[outside_range] = 0.0\n",
    "    \n",
    "\n",
    "\n",
    "    x_max_list.append(x.max())\n",
    "    y_max_list.append(y.max())\n",
    "    x_min_list.append(x.min())\n",
    "    y_min_list.append(y.min())\n",
    "\n",
    "binary_solution = np.sign(x)\n",
    "\n",
    "\n",
    "\n",
    "print_coloring_stats(J, binary_solution)\n",
    "binary_solution"
   ]
  },
  {
   "cell_type": "code",
   "execution_count": 53,
   "metadata": {},
   "outputs": [],
   "source": [
    "# plt.figure(figsize=(24, 6))  # Set width to 24 and height to 6\n",
    "# plt.plot(gradient_list, linestyle='-', color='b')\n",
    "# plt.xlabel(\"Index\")\n",
    "# plt.ylabel(\"Value\")\n",
    "# plt.title(\"Line Chart of gradient_list\")\n",
    "# plt.grid(True)\n",
    "# plt.show()\n",
    "\n",
    "# print(binary_solution)\n",
    "\n",
    "# plt.figure(figsize=(24, 6))  # Set width to 24 and height to 6\n",
    "# plt.plot(x_max_list, linestyle='-', color='b')\n",
    "# plt.xlabel(\"Index\")\n",
    "# plt.ylabel(\"Value\")\n",
    "# plt.title(\"Line Chart of x_max_list\")\n",
    "# plt.grid(True)\n",
    "# plt.show()\n",
    "\n",
    "\n",
    "\n",
    "# plt.figure(figsize=(24, 6))  # Set width to 24 and height to 6\n",
    "# plt.plot(y_max_list, linestyle='-', color='b')\n",
    "# plt.xlabel(\"Index\")\n",
    "# plt.ylabel(\"Value\")\n",
    "# plt.title(\"Line Chart of y_max_list\")\n",
    "# plt.grid(True)\n",
    "# plt.show()\n",
    "\n",
    "# plt.figure(figsize=(24, 6))  # Set width to 24 and height to 6\n",
    "# plt.plot(x_min_list, linestyle='-', color='b')\n",
    "# plt.xlabel(\"Index\")\n",
    "# plt.ylabel(\"Value\")\n",
    "# plt.title(\"Line Chart of x_min_list\")\n",
    "# plt.grid(True)\n",
    "# plt.show()\n",
    "\n",
    "\n",
    "\n",
    "# plt.figure(figsize=(24, 6))  # Set width to 24 and height to 6\n",
    "# plt.plot(y_min_list, linestyle='-', color='b')\n",
    "# plt.xlabel(\"Index\")\n",
    "# plt.ylabel(\"Value\")\n",
    "# plt.title(\"Line Chart of y_min_list\")\n",
    "# plt.grid(True)\n",
    "# plt.show()\n"
   ]
  },
  {
   "cell_type": "markdown",
   "metadata": {},
   "source": [
    "# Greedy Coloring"
   ]
  },
  {
   "cell_type": "code",
   "execution_count": 54,
   "metadata": {},
   "outputs": [
    {
     "name": "stdout",
     "output_type": "stream",
     "text": [
      "Node colors: {0: 0, 1: 0, 2: 1, 3: 1, 4: 2}\n",
      "Number of violations: 0\n"
     ]
    },
    {
     "data": {
      "image/png": "[encoded data removed]",
      "text/plain": [
       "<Figure size 800x600 with 1 Axes>"
      ]
     },
     "metadata": {},
     "output_type": "display_data"
    }
   ],
   "source": [
    "import numpy as np\n",
    "import networkx as nx\n",
    "\n",
    "def greedy_coloring(num_colors, adjacency_matrix):\n",
    "    \"\"\"\n",
    "    Colors a graph using the greedy algorithm with a limited number of colors.\n",
    "    \n",
    "    Parameters:\n",
    "    -----------\n",
    "    num_colors : int\n",
    "        Maximum number of colors to use (0 to num_colors-1)\n",
    "    adjacency_matrix : numpy.ndarray\n",
    "        Adjacency matrix representation of the graph\n",
    "    \n",
    "    Returns:\n",
    "    --------\n",
    "    tuple\n",
    "        (node_colors, violations)\n",
    "        - node_colors: Dictionary mapping node index to color\n",
    "        - violations: Number of edges where both endpoints have the same color\n",
    "    \"\"\"\n",
    "    # Convert adjacency matrix to NetworkX graph\n",
    "    G = nx.from_numpy_array(adjacency_matrix)\n",
    "    \n",
    "    # Initialize colors dictionary\n",
    "    node_colors = {}\n",
    "    \n",
    "    # Process nodes in order (can be customized with different node orderings)\n",
    "    for node in G.nodes():\n",
    "        # Get colors of neighbors\n",
    "        neighbor_colors = set()\n",
    "        for neighbor in G.neighbors(node):\n",
    "            if neighbor in node_colors:\n",
    "                neighbor_colors.add(node_colors[neighbor])\n",
    "        \n",
    "        # Find the smallest available color\n",
    "        color = 0\n",
    "        while color in neighbor_colors and color < num_colors:\n",
    "            color += 1\n",
    "            \n",
    "        # If we've exceeded available colors, use the last available color\n",
    "        if color >= num_colors:\n",
    "            color = num_colors - 1\n",
    "            \n",
    "        # Assign the color\n",
    "        node_colors[node] = color\n",
    "    \n",
    "    # Count violations (edges where both endpoints have the same color)\n",
    "    violations = 0\n",
    "    for u, v in G.edges():\n",
    "        if node_colors[u] == node_colors[v]:\n",
    "            violations += 1\n",
    "    \n",
    "    return node_colors, violations\n",
    "\n",
    "colors, violations = greedy_coloring(num_colors, J)\n",
    "\n",
    "print(\"Node colors:\", colors)\n",
    "print(\"Number of violations:\", violations)\n",
    "\n",
    "# Visualize the coloring (optional)\n",
    "import matplotlib.pyplot as plt\n",
    "\n",
    "G = nx.from_numpy_array(J)\n",
    "color_map = [colors[node] for node in G.nodes()]\n",
    "\n",
    "plt.figure(figsize=(8, 6))\n",
    "nx.draw(G, node_color=color_map, with_labels=True, \n",
    "        cmap=plt.cm.rainbow, node_size=800)\n",
    "plt.title(f\"Graph Coloring with {len(set(color_map))} colors, {violations} violations\")\n",
    "plt.show()"
   ]
  }
 ],
 "metadata": {
  "kernelspec": {
   "display_name": "Python 3",
   "language": "python",
   "name": "python3"
  },
  "language_info": {
   "codemirror_mode": {
    "name": "ipython",
    "version": 3
   },
   "file_extension": ".py",
   "mimetype": "text/x-python",
   "name": "python",
   "nbconvert_exporter": "python",
   "pygments_lexer": "ipython3",
   "version": "3.12.0"
  }
 },
 "nbformat": 4,
 "nbformat_minor": 2
}
