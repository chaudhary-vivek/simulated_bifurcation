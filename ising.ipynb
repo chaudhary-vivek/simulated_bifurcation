{
 "cells": [
  {
   "cell_type": "code",
   "execution_count": 4,
   "metadata": {},
   "outputs": [],
   "source": [
    "import torch\n",
    "\n",
    "def solve_ising(J, h, agents=10, steps=1000, dtype=torch.float32, device=\"cpu\"):\n",
    "    J = J.to(dtype=dtype, device=device)\n",
    "    h = h.to(dtype=dtype, device=device)\n",
    "    dim = J.shape[0]\n",
    "    \n",
    "    J_sym = (J + J.t()) / 2.0\n",
    "    torch.diagonal(J_sym)[:] = 0.0\n",
    "    \n",
    "    pos = 2 * torch.rand(dim, agents, dtype=dtype, device=device) - 1\n",
    "    mom = 2 * torch.rand(dim, agents, dtype=dtype, device=device) - 1\n",
    "    \n",
    "    dt = 0.05\n",
    "    scale = 0.5 * (dim - 1)**0.5 / torch.sqrt((J_sym**2).sum())\n",
    "    \n",
    "    for step in range(steps):\n",
    "        pressure = min(dt * step * 0.01, 1.0)\n",
    "        mom += dt * (pressure - 1.0) * pos\n",
    "        pos += dt * mom\n",
    "        mom += dt * scale * (J_sym @ pos)\n",
    "        pos.clamp_(-1.0, 1.0)\n",
    "        mom[torch.abs(pos) > 1.0] = 0.0\n",
    "    \n",
    "    spins = torch.where(pos >= 0.0, 1.0, -1.0)\n",
    "    energies = -0.5 * (spins.T @ J_sym @ spins).diag() + (h @ spins).T\n",
    "    best_idx = energies.argmin()\n",
    "    return spins[:, best_idx], energies[best_idx]\n",
    "\n"
   ]
  },
  {
   "cell_type": "code",
   "execution_count": 5,
   "metadata": {},
   "outputs": [],
   "source": [
    "torch.manual_seed(42)\n",
    "J = torch.tensor([[0, -2, 3], [-2, 0, 1], [3, 1, 0]])\n",
    "h = torch.tensor([1, -4, 2])\n",
    "\n",
    "spins, energy = solve_ising(J, h)\n",
    "\n",
    "assert torch.equal(\n",
    "    torch.tensor([-1.0, 1.0, -1.0], dtype=torch.float32), spins\n",
    ")\n",
    "assert -11.0 == energy"
   ]
  }
 ],
 "metadata": {
  "kernelspec": {
   "display_name": "base",
   "language": "python",
   "name": "python3"
  },
  "language_info": {
   "codemirror_mode": {
    "name": "ipython",
    "version": 3
   },
   "file_extension": ".py",
   "mimetype": "text/x-python",
   "name": "python",
   "nbconvert_exporter": "python",
   "pygments_lexer": "ipython3",
   "version": "3.11.5"
  }
 },
 "nbformat": 4,
 "nbformat_minor": 2
}
