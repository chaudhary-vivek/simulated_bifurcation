{
 "cells": [
  {
   "cell_type": "code",
   "execution_count": null,
   "metadata": {},
   "outputs": [
    {
     "name": "stdout",
     "output_type": "stream",
     "text": [
      "Optimized portfolio: tensor([0., 7., 7.])\n",
      "Expected gain: 45.6400\n"
     ]
    }
   ],
   "source": [
    "import torch\n",
    "\n",
    "def optimize_portfolio(covariance, expected_return, risk_coefficient=1, number_of_bits=3, agents=10):\n",
    "    \"\"\"\n",
    "    Optimize portfolio allocation using simplified simulated bifurcation.\n",
    "    \n",
    "    Args:\n",
    "        covariance: Asset covariance matrix\n",
    "        expected_return: Expected returns vector\n",
    "        risk_coefficient: Risk aversion parameter (higher = more conservative)\n",
    "        number_of_bits: Number of bits to represent each asset quantity\n",
    "        agents: Number of parallel optimization attempts\n",
    "        \n",
    "    Returns:\n",
    "        portfolio: Optimized portfolio weights\n",
    "        gain: Expected gain of the optimized portfolio\n",
    "    \"\"\"\n",
    "        \n",
    "    # Get dimensions\n",
    "    assets = covariance.shape[0]\n",
    "    \n",
    "    # Prepare quadratic and linear coefficients\n",
    "    quadratic = -0.5 * risk_coefficient * covariance\n",
    "    linear = expected_return\n",
    "    \n",
    "    # Initialize particles (position and momentum)\n",
    "    position = 2 * torch.rand(assets, agents) - 1\n",
    "    momentum = 2 * torch.rand(assets, agents) - 1\n",
    "    \n",
    "    # Run simplified simulated bifurcation\n",
    "    time_step = 0.05\n",
    "    scaling = 0.5 * (assets - 1)**0.5 / torch.sqrt(torch.sum(quadratic**2))\n",
    "    \n",
    "    # Main optimization loop\n",
    "    for step in range(1000):\n",
    "        # Calculate pressure (annealing parameter)\n",
    "        pressure = min(time_step * step * 0.01, 1.0)\n",
    "        \n",
    "        # Update momentum and position\n",
    "        momentum += time_step * (pressure - 1.0) * position  \n",
    "        position += time_step * momentum\n",
    "        momentum += time_step * scaling * quadratic @ position\n",
    "        \n",
    "        # Apply boundary conditions\n",
    "        momentum[torch.abs(position) > 1.0] = 0.0\n",
    "        position = torch.clamp(position, -1.0, 1.0)\n",
    "    \n",
    "    # Get final spins and convert to integers\n",
    "    spins = torch.where(position >= 0.0, 1.0, -1.0)\n",
    "    max_val = 2**number_of_bits - 1\n",
    "    weights = ((spins + 1) / 2) * max_val\n",
    "    \n",
    "    # Calculate objective for all agents\n",
    "    gains = torch.zeros(agents)\n",
    "    for i in range(agents):\n",
    "        w = weights[:, i]\n",
    "        gains[i] = w @ expected_return - 0.5 * risk_coefficient * w @ covariance @ w\n",
    "    \n",
    "    # Return best solution\n",
    "    best_idx = torch.argmax(gains)\n",
    "    portfolio = weights[:, best_idx]\n",
    "    gain = gains[best_idx].item()\n",
    "    \n",
    "    return portfolio, gain\n",
    "\n",
    "\n",
    "# Example usage\n",
    "if __name__ == \"__main__\":\n",
    "    # Test data\n",
    "    covariance = torch.tensor([[1.0, 1.2, 0.7], \n",
    "                              [1.2, 1.0, -1.9], \n",
    "                              [0.7, -1.9, 1.0]])\n",
    "    expected_return = torch.tensor([0.2, 0.05, 0.17])\n",
    "    \n",
    "    # Run optimization\n",
    "    portfolio, gain = optimize_portfolio(\n",
    "        covariance,\n",
    "        expected_return,\n",
    "        risk_coefficient=1,\n",
    "        number_of_bits=3,\n",
    "        agents=10\n",
    "    )\n",
    "    \n",
    "    print(f\"Optimized portfolio: {portfolio}\")\n",
    "    print(f\"Expected gain: {gain:.4f}\")"
   ]
  },
  {
   "cell_type": "code",
   "execution_count": 2,
   "metadata": {},
   "outputs": [],
   "source": [
    "\n",
    "assert torch.equal(torch.tensor([0.0, 7.0, 7.0]), portfolio)\n"
   ]
  }
 ],
 "metadata": {
  "kernelspec": {
   "display_name": "base",
   "language": "python",
   "name": "python3"
  },
  "language_info": {
   "codemirror_mode": {
    "name": "ipython",
    "version": 3
   },
   "file_extension": ".py",
   "mimetype": "text/x-python",
   "name": "python",
   "nbconvert_exporter": "python",
   "pygments_lexer": "ipython3",
   "version": "3.11.5"
  }
 },
 "nbformat": 4,
 "nbformat_minor": 2
}
