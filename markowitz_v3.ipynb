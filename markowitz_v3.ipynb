{
 "cells": [
  {
   "cell_type": "code",
   "execution_count": 3,
   "metadata": {},
   "outputs": [
    {
     "name": "stdout",
     "output_type": "stream",
     "text": [
      "Optimized portfolio: tensor([0., 7., 7.])\n",
      "Expected gain: 45.6400\n"
     ]
    }
   ],
   "source": [
    "import torch\n",
    "\n",
    "def optimize_portfolio(cov, ret, risk=1, bits=3, agents=10):\n",
    "    assets= cov.shape[0]\n",
    "    q =  -0.5 * risk * cov\n",
    "    l =  ret\n",
    "    pos = 2 * torch.rand(assets, agents) - 1\n",
    "    mom =  2 * torch.rand(assets, agents) - 1\n",
    "    scale = 0.5 * (assets - 1)**0.5 / torch.sqrt((q**2).sum())\n",
    "    dt = 0.5 * (assets - 1)**0.5 / torch.sqrt((q**2).sum())\n",
    "    \n",
    "    for step in range(1000):\n",
    "        p = min(dt * step * 0.01, 1.0)\n",
    "        mom += dt * (p - 1) * pos\n",
    "        pos += dt * mom\n",
    "        mom += dt * scale * q @ pos\n",
    "        pos = torch.clamp(pos, -1, 1)\n",
    "        mom[torch.abs(pos) > 1] = 0\n",
    "    \n",
    "    w = ((torch.where(pos >= 0, 1.0, -1.0) + 1) / 2) * (2**bits - 1)\n",
    "    gains = torch.einsum('ij,j->i', w.T, ret) - 0.5 * risk * torch.einsum('ij,jk,ik->i', w.T, cov, w.T)\n",
    "    return w[:, gains.argmax()], gains.max().item()\n",
    "\n",
    "# Example usage\n",
    "if __name__ == \"__main__\":\n",
    "    cov = torch.tensor([[1.0, 1.2, 0.7], [1.2, 1.0, -1.9], [0.7, -1.9, 1.0]])\n",
    "    ret = torch.tensor([0.2, 0.05, 0.17])\n",
    "    portfolio, gain = optimize_portfolio(cov, ret)\n",
    "    print(f\"Optimized portfolio: {portfolio}\\nExpected gain: {gain:.4f}\")\n"
   ]
  },
  {
   "cell_type": "code",
   "execution_count": 4,
   "metadata": {},
   "outputs": [],
   "source": [
    "assert torch.equal(torch.tensor([0.0, 7.0, 7.0]), portfolio)\n"
   ]
  }
 ],
 "metadata": {
  "kernelspec": {
   "display_name": "base",
   "language": "python",
   "name": "python3"
  },
  "language_info": {
   "codemirror_mode": {
    "name": "ipython",
    "version": 3
   },
   "file_extension": ".py",
   "mimetype": "text/x-python",
   "name": "python",
   "nbconvert_exporter": "python",
   "pygments_lexer": "ipython3",
   "version": "3.11.5"
  }
 },
 "nbformat": 4,
 "nbformat_minor": 2
}
