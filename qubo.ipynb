{
 "cells": [
  {
   "cell_type": "code",
   "execution_count": 16,
   "metadata": {},
   "outputs": [],
   "source": [
    "import torch\n",
    "\n",
    "def optimize_qubo(Q, minimize=False, agents=128, dtype=torch.float32, device=\"cpu\"):\n",
    "    if not isinstance(Q, torch.Tensor):\n",
    "        Q = torch.tensor(Q)\n",
    "    \n",
    "    Q = Q.to(device=device, dtype=dtype)\n",
    "    dim = Q.shape[0]\n",
    "    \n",
    "    pos = 2 * torch.rand(dim, agents, dtype=dtype, device=device) - 1\n",
    "    mom = 2 * torch.rand(dim, agents, dtype=dtype, device=device) - 1\n",
    "    \n",
    "    max_steps = 5000\n",
    "    dt = 0.01\n",
    "    scale = 0.5 * (dim - 1) ** 0.5 / torch.sqrt((Q**2).sum())\n",
    "    \n",
    "    if minimize:\n",
    "        Q = -Q\n",
    "    \n",
    "    Q_sym = 0.5 * (Q + Q.t())\n",
    "    \n",
    "    for step in range(max_steps):\n",
    "        p = min(dt * step * 0.01, 1.0)\n",
    "        mom += dt * (p - 1.0) * pos\n",
    "        pos += dt * mom\n",
    "        spins = torch.sign(pos)\n",
    "        mom += dt * scale * (Q_sym @ spins)\n",
    "        pos = torch.clamp(pos, -1.0, 1.0)\n",
    "        mom[torch.abs(pos) > 1.0] = 0.0\n",
    "    \n",
    "    binary_values = (torch.sign(pos) + 1) / 2\n",
    "    values = (binary_values.T @ Q @ binary_values).diag()\n",
    "    best_idx = values.argmax()\n",
    "    best_value = values[best_idx]\n",
    "    \n",
    "    if minimize:\n",
    "        best_value = -best_value\n",
    "    \n",
    "    return binary_values[:, best_idx], best_value\n",
    "\n",
    "\n"
   ]
  },
  {
   "cell_type": "code",
   "execution_count": 17,
   "metadata": {},
   "outputs": [],
   "source": [
    "P = 15.5\n",
    "\n",
    "Q = torch.tensor([\n",
    "    [2, -P, -P, 0, 0, 0],\n",
    "    [0, 2, -P, -P, 0, 0],\n",
    "    [0, 0, 2, -2 * P, 0, 0],\n",
    "    [0, 0, 0, 2, -P, 0],\n",
    "    [0, 0, 0, 0, 4.5, -P],\n",
    "    [0, 0, 0, 0, 0, 3],\n",
    "])\n",
    "\n",
    "binary_vector, objective_value = optimize_qubo(Q, minimize=False, agents=10)\n",
    "\n",
    "assert torch.equal(\n",
    "        torch.tensor([1.0, 0.0, 0.0, 1.0, 0.0, 1.0], dtype=torch.float32), binary_vector\n",
    "    )\n",
    "assert 7.0 == objective_value"
   ]
  }
 ],
 "metadata": {
  "kernelspec": {
   "display_name": "base",
   "language": "python",
   "name": "python3"
  },
  "language_info": {
   "codemirror_mode": {
    "name": "ipython",
    "version": 3
   },
   "file_extension": ".py",
   "mimetype": "text/x-python",
   "name": "python",
   "nbconvert_exporter": "python",
   "pygments_lexer": "ipython3",
   "version": "3.11.5"
  }
 },
 "nbformat": 4,
 "nbformat_minor": 2
}
